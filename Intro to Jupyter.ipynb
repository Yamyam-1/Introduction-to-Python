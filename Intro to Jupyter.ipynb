{
 "cells": [
  {
   "cell_type": "markdown",
   "metadata": {},
   "source": [
    "<h1> Intro to Jupyter Notebooks </h1>"
   ]
  },
  {
   "cell_type": "markdown",
   "metadata": {},
   "source": [
    "<h3> Introduction to Cell Modes:</h3> \n",
    "There are two Modes: command mode and edit mode   \n",
    "\n",
    "Switch from editing mode into command mode by pressing \"Esc\"  \n",
    "Get into the edit mode by pressing \"Enter\"  \n",
    "\n",
    "\n",
    "\n"
   ]
  },
  {
   "cell_type": "markdown",
   "metadata": {},
   "source": [
    "<h3>Command Mode:</h3>  \n",
    "\n",
    "To add a new cell above: Select a cell and press \"a\"  \n",
    "To delete a cell: Select a cell and press \"d\" twice  \n",
    "To add a cell below: Select a cell and press \"b\"  \n",
    "Converting a cell into markdown, press \"m\"  \n",
    "Converting a cell into code, press \"y\"  \n",
    "To undo a operation, press \"z\"  \n",
    "to redo, press \"Shift + z\"  \n",
    "To cut a cell, press \"x\"\n",
    "to paste a cell, press \"v\"  \n"
   ]
  },
  {
   "cell_type": "markdown",
   "metadata": {},
   "source": [
    "<h3>Edit Mode:</h3>  \n",
    "\n",
    "To execute a cell and add a new one below (if there is none) or jump in the next cell, press \"Shift+Enter\"  \n",
    "To execute a cell and stay in the same cell, press \"Control+Enter\"  \n"
   ]
  },
  {
   "cell_type": "code",
   "execution_count": null,
   "metadata": {},
   "outputs": [],
   "source": []
  }
 ],
 "metadata": {
  "kernelspec": {
   "display_name": "Python 3",
   "language": "python",
   "name": "python3"
  },
  "language_info": {
   "codemirror_mode": {
    "name": "ipython",
    "version": 3
   },
   "file_extension": ".py",
   "mimetype": "text/x-python",
   "name": "python",
   "nbconvert_exporter": "python",
   "pygments_lexer": "ipython3",
   "version": "3.8.5"
  }
 },
 "nbformat": 4,
 "nbformat_minor": 4
}
